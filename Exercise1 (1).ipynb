{
 "cells": [
  {
   "cell_type": "code",
   "execution_count": 1,
   "id": "e7212ff2",
   "metadata": {},
   "outputs": [
    {
     "name": "stdout",
     "output_type": "stream",
     "text": [
      "3.9.12 (main, Apr  4 2022, 05:22:27) [MSC v.1916 64 bit (AMD64)]\n"
     ]
    }
   ],
   "source": [
    "import sys\n",
    "print(sys.version)     #Python code to return your Python version"
   ]
  },
  {
   "cell_type": "code",
   "execution_count": 2,
   "id": "ef659caf",
   "metadata": {},
   "outputs": [
    {
     "data": {
      "text/plain": [
       "'customer_id = 513'"
      ]
     },
     "execution_count": 2,
     "metadata": {},
     "output_type": "execute_result"
    }
   ],
   "source": [
    "##Write a Python code to declare variable id=\"513\".\n",
    "#Print the following statement \"customer id =513\". [Don't use print(\"customer id\")]\n",
    "variable_id = \"customer_id = 513\"\n",
    "variable_id"
   ]
  },
  {
   "cell_type": "code",
   "execution_count": 16,
   "id": "5dcad712",
   "metadata": {},
   "outputs": [
    {
     "name": "stdout",
     "output_type": "stream",
     "text": [
      "123\n"
     ]
    }
   ],
   "source": [
    "#Run the following statement    id = id+1    , why there is an error\n",
    "\n",
    "var_id =122\n",
    "var_id = var_id+1 \n",
    "print (var_id)  #the error is because id is a builtin function that can not be used as a variable so i have changed it to var_id . \n",
    "               #and var_id has to be assigned value first inorder to add 1 to it. \n"
   ]
  },
  {
   "cell_type": "code",
   "execution_count": 17,
   "id": "8f1a1b8f",
   "metadata": {},
   "outputs": [
    {
     "data": {
      "text/plain": [
       "124"
      ]
     },
     "execution_count": 17,
     "metadata": {},
     "output_type": "execute_result"
    }
   ],
   "source": [
    "#Convert the variable id into an integer, increment it by 1.\n",
    "#Assign the result to variable new_id.\n",
    "#Print the new_id\n",
    "var_id = int('123')\n",
    "var_id_new = var_id+1 \n",
    "var_id_new"
   ]
  },
  {
   "cell_type": "code",
   "execution_count": 19,
   "id": "6f8b6345",
   "metadata": {},
   "outputs": [
    {
     "name": "stdout",
     "output_type": "stream",
     "text": [
      "Twinkle, twinkle, little star,\n",
      "How I wonder what you are!\n",
      "Up above the world so high,\n",
      "Like a diamond in the sky.\n"
     ]
    }
   ],
   "source": [
    "#Write a Python code to print the following string in a specific format (see the\n",
    "# Twinkle, twinkle, little star,\n",
    "# How I wonder what you are!\n",
    "# Up above the world so high,\n",
    "# Like a diamond in the sky.\n",
    "print (\"Twinkle, twinkle, little star,\\nHow I wonder what you are!\\nUp above the world so high,\\nLike a diamond in the sky.\")"
   ]
  },
  {
   "cell_type": "code",
   "execution_count": 20,
   "id": "87a06f23",
   "metadata": {},
   "outputs": [
    {
     "data": {
      "text/plain": [
       "'P'"
      ]
     },
     "execution_count": 20,
     "metadata": {},
     "output_type": "execute_result"
    }
   ],
   "source": [
    "#Givin the following string variable, # Print the first element in the string\n",
    "course=\"Python for Data Science\"\n",
    "course[:1]\n"
   ]
  },
  {
   "cell_type": "code",
   "execution_count": 25,
   "id": "bed60bc0",
   "metadata": {},
   "outputs": [
    {
     "data": {
      "text/plain": [
       "'t'"
      ]
     },
     "execution_count": 25,
     "metadata": {},
     "output_type": "execute_result"
    }
   ],
   "source": [
    "# Print the element on the 13th index in the string\n",
    "course[13:14]"
   ]
  },
  {
   "cell_type": "code",
   "execution_count": 26,
   "id": "f84665e4",
   "metadata": {},
   "outputs": [
    {
     "data": {
      "text/plain": [
       "23"
      ]
     },
     "execution_count": 26,
     "metadata": {},
     "output_type": "execute_result"
    }
   ],
   "source": [
    "# Find the length of string\n",
    "len(course)"
   ]
  },
  {
   "cell_type": "code",
   "execution_count": 27,
   "id": "d3944113",
   "metadata": {},
   "outputs": [
    {
     "data": {
      "text/plain": [
       "'e'"
      ]
     },
     "execution_count": 27,
     "metadata": {},
     "output_type": "execute_result"
    }
   ],
   "source": [
    "#Print the last element in the string [use negative index]\n",
    "course[-1]"
   ]
  },
  {
   "cell_type": "code",
   "execution_count": 28,
   "id": "43333e8e",
   "metadata": {},
   "outputs": [
    {
     "data": {
      "text/plain": [
       "'Dat'"
      ]
     },
     "execution_count": 28,
     "metadata": {},
     "output_type": "execute_result"
    }
   ],
   "source": [
    "#Take the slice on variable course with only index 11 to index 14\n",
    "course[11:14]"
   ]
  },
  {
   "cell_type": "code",
   "execution_count": 29,
   "id": "32b92506",
   "metadata": {},
   "outputs": [
    {
     "data": {
      "text/plain": [
       "'Ph ra i'"
      ]
     },
     "execution_count": 29,
     "metadata": {},
     "output_type": "execute_result"
    }
   ],
   "source": [
    "# Get every third element in the range from index 0 to index 20\n",
    "course[0:20:3]"
   ]
  },
  {
   "cell_type": "code",
   "execution_count": 34,
   "id": "458ad6de",
   "metadata": {},
   "outputs": [
    {
     "data": {
      "text/plain": [
       "'Python , AI & Development'"
      ]
     },
     "execution_count": 34,
     "metadata": {},
     "output_type": "execute_result"
    }
   ],
   "source": [
    "# Concatenate course string with \", AI & Development\"\n",
    "A = \"Python \"\n",
    "B = \", AI & Development\"\n",
    "C = A+B\n",
    "C\n"
   ]
  },
  {
   "cell_type": "code",
   "execution_count": 35,
   "id": "c0a2aaad",
   "metadata": {},
   "outputs": [
    {
     "name": "stdout",
     "output_type": "stream",
     "text": [
      "Python_for_Data_Science\n"
     ]
    }
   ],
   "source": [
    "# Replace all the spaces with (_). New string should looks like\"Python_for_Data_Science\n",
    "\n",
    "course=\"Python for Data Science\"\n",
    "print(course.replace(\" \" , \"_\"))"
   ]
  },
  {
   "cell_type": "code",
   "execution_count": 36,
   "id": "d2429e02",
   "metadata": {},
   "outputs": [
    {
     "name": "stdout",
     "output_type": "stream",
     "text": [
      "PYTHON FOR DATA SCIENCE\n"
     ]
    }
   ],
   "source": [
    "# Convert all the characters in string to upper case\n",
    "course=\"Python for Data Science\"\n",
    "print(course.upper())"
   ]
  },
  {
   "cell_type": "code",
   "execution_count": 37,
   "id": "a1a57c05",
   "metadata": {},
   "outputs": [
    {
     "name": "stdout",
     "output_type": "stream",
     "text": [
      "python for data science\n"
     ]
    }
   ],
   "source": [
    "print(course.lower()) #this makes prints in lower case"
   ]
  },
  {
   "cell_type": "code",
   "execution_count": 38,
   "id": "fa0c3d79",
   "metadata": {},
   "outputs": [
    {
     "name": "stdout",
     "output_type": "stream",
     "text": [
      "Python For Data Science\n"
     ]
    }
   ],
   "source": [
    "print(course.title()) this prints every first letter of every word in a sentence"
   ]
  },
  {
   "cell_type": "code",
   "execution_count": null,
   "id": "f2ced8d3",
   "metadata": {},
   "outputs": [],
   "source": []
  }
 ],
 "metadata": {
  "kernelspec": {
   "display_name": "Python 3 (ipykernel)",
   "language": "python",
   "name": "python3"
  },
  "language_info": {
   "codemirror_mode": {
    "name": "ipython",
    "version": 3
   },
   "file_extension": ".py",
   "mimetype": "text/x-python",
   "name": "python",
   "nbconvert_exporter": "python",
   "pygments_lexer": "ipython3",
   "version": "3.9.12"
  }
 },
 "nbformat": 4,
 "nbformat_minor": 5
}
