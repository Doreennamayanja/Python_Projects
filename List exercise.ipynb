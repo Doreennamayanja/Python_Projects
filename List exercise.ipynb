{
 "cells": [
  {
   "cell_type": "code",
   "execution_count": 1,
   "id": "c4c2fde4",
   "metadata": {},
   "outputs": [],
   "source": [
    "#Q1 Create a tuple with all participant names in the JDA program\n",
    "participants=(\"Do\", \"Dev\", \"Dominic\", \"Snoor\", \"Jeda\", \"Fatima\")"
   ]
  },
  {
   "cell_type": "code",
   "execution_count": 2,
   "id": "04c570a0",
   "metadata": {},
   "outputs": [
    {
     "name": "stdout",
     "output_type": "stream",
     "text": [
      "['Do', 'Dev', 'Dominic', 'Snoor', 'Jeda', 'Fatima']\n"
     ]
    }
   ],
   "source": [
    "#Q2 Convert the tuple into a list called pps_L\n",
    "pps_L=list(participants)\n",
    "print(pps_L)"
   ]
  },
  {
   "cell_type": "code",
   "execution_count": 3,
   "id": "1667af15",
   "metadata": {},
   "outputs": [
    {
     "data": {
      "text/plain": [
       "6"
      ]
     },
     "execution_count": 3,
     "metadata": {},
     "output_type": "execute_result"
    }
   ],
   "source": [
    "#Q3 What is the length of your list \n",
    "len(pps_L)"
   ]
  },
  {
   "cell_type": "code",
   "execution_count": 4,
   "id": "329737b9",
   "metadata": {},
   "outputs": [
    {
     "data": {
      "text/plain": [
       "'Snoor'"
      ]
     },
     "execution_count": 4,
     "metadata": {},
     "output_type": "execute_result"
    }
   ],
   "source": [
    "#Q4 Find the values stored in indexes [3],[5],[14],[30],[38]\n",
    "pps_L[3]\n"
   ]
  },
  {
   "cell_type": "code",
   "execution_count": 5,
   "id": "3380e679",
   "metadata": {},
   "outputs": [
    {
     "data": {
      "text/plain": [
       "'Fatima'"
      ]
     },
     "execution_count": 5,
     "metadata": {},
     "output_type": "execute_result"
    }
   ],
   "source": [
    "pps_L[5]"
   ]
  },
  {
   "cell_type": "code",
   "execution_count": 6,
   "id": "7e4b9f2d",
   "metadata": {},
   "outputs": [
    {
     "name": "stdout",
     "output_type": "stream",
     "text": [
      "Sarah is not in JDA program\n"
     ]
    }
   ],
   "source": [
    "#Q5 Check if \"Sarah\" is in the list\n",
    "if \"Sarah\" in pps_L:\n",
    "    print(\"Sarah is in JDA program\")\n",
    "else:\n",
    "    print(\"Sarah is not in JDA program\")\n",
    "    "
   ]
  },
  {
   "cell_type": "code",
   "execution_count": 7,
   "id": "7cdf17e1",
   "metadata": {},
   "outputs": [
    {
     "data": {
      "text/plain": [
       "['Do', 'Dev', 'Dominic', 'Snoor', 'Jeda', 'Fatima']"
      ]
     },
     "execution_count": 7,
     "metadata": {},
     "output_type": "execute_result"
    }
   ],
   "source": [
    "#Q6 Add \"Sarah\" to your list\n",
    "pps_L"
   ]
  },
  {
   "cell_type": "code",
   "execution_count": 11,
   "id": "1e8dd62b",
   "metadata": {},
   "outputs": [
    {
     "name": "stdout",
     "output_type": "stream",
     "text": [
      "['Do', 'Dev', 'Dominic', 'Snoor', 'Jeda', 'Fatima', 'Sarah']\n"
     ]
    }
   ],
   "source": [
    "new_student=[\"Sarah\"]\n",
    "my_new_pps_L=pps_L+(new_student)\n",
    "print(my_new_pps_L)"
   ]
  },
  {
   "cell_type": "code",
   "execution_count": 12,
   "id": "0e470eb8",
   "metadata": {},
   "outputs": [
    {
     "name": "stdout",
     "output_type": "stream",
     "text": [
      "Bashir is not in the new list\n"
     ]
    }
   ],
   "source": [
    "#Q7 Check if \"Bashir\" is in the list\n",
    "if \"Bashir\" in my_new_pps_L:\n",
    "    print(\"Bashir is in the new list\")\n",
    "else:\n",
    "    print(\"Bashir is not in the new list\")"
   ]
  },
  {
   "cell_type": "code",
   "execution_count": 13,
   "id": "91d5940d",
   "metadata": {},
   "outputs": [
    {
     "data": {
      "text/plain": [
       "['Do', 'Dev', 'Dominic', 'Snoor', 'Jeda', 'Fatima', 'Sarah']"
      ]
     },
     "execution_count": 13,
     "metadata": {},
     "output_type": "execute_result"
    }
   ],
   "source": [
    "#Q9 Add \"Bashir\" to your list\n",
    "my_new_pps_L"
   ]
  },
  {
   "cell_type": "code",
   "execution_count": 15,
   "id": "bc750334",
   "metadata": {},
   "outputs": [
    {
     "name": "stdout",
     "output_type": "stream",
     "text": [
      "['Do', 'Dev', 'Dominic', 'Snoor', 'Jeda', 'Fatima', 'Sarah', 'Bashir']\n"
     ]
    }
   ],
   "source": [
    "new_student2=[\"Bashir\"]\n",
    "my_secondnew_pps_L=my_new_pps_L+(new_student2)\n",
    "print(my_secondnew_pps_L)"
   ]
  },
  {
   "cell_type": "code",
   "execution_count": 29,
   "id": "bb695341",
   "metadata": {},
   "outputs": [
    {
     "name": "stdout",
     "output_type": "stream",
     "text": [
      "6\n"
     ]
    }
   ],
   "source": [
    "#Q10 Find the index of the element \"Sarah\" in the list\n",
    "sarahindex=my_secondnew_pps_L.index(\"Sarah\")\n",
    "print(sarahindex)"
   ]
  },
  {
   "cell_type": "code",
   "execution_count": 36,
   "id": "4a0d8259",
   "metadata": {},
   "outputs": [
    {
     "name": "stdout",
     "output_type": "stream",
     "text": [
      "['Do', 'Dev', 'Dominic', 'Snoor', 'Jeda', 'Fatima', 'Instructor', 'Bashir']\n"
     ]
    }
   ],
   "source": [
    "#Q11 Change the value of the index in Q10 from \"Sarah\" to \"Instructor\" \n",
    "my_secondnew_pps_L= ['Do', 'Dev', 'Dominic', 'Snoor', 'Jeda', 'Fatima', 'Sarah', 'Bashir'] #this is our list\n",
    "my_secondnew_pps_L = list(my_secondnew_pps_L) #this converts a tuple to a list, but in our case, its was already converted to a list in qn 2\n",
    "my_secondnew_pps_L[6]=\"Instructor\" # this means Change the value at index 2\n",
    "# my_secondnew_pps_L=tuple(my_secondnew_pps_L) #this turns it back to a tuple,which was not requested for in the qn\n",
    "print(my_secondnew_pps_L)"
   ]
  },
  {
   "cell_type": "code",
   "execution_count": 38,
   "id": "94a41487",
   "metadata": {},
   "outputs": [
    {
     "name": "stdout",
     "output_type": "stream",
     "text": [
      "7\n"
     ]
    }
   ],
   "source": [
    "#Q12 Find the index of the element \"Bashir\" in the list\n",
    "Bashirindex=my_secondnew_pps_L.index(\"Bashir\")\n",
    "print(Bashirindex)"
   ]
  },
  {
   "cell_type": "code",
   "execution_count": 40,
   "id": "16b75ee5",
   "metadata": {},
   "outputs": [
    {
     "name": "stdout",
     "output_type": "stream",
     "text": [
      "['Do', 'Dev', 'Dominic', 'Snoor', 'Jeda', 'Fatima', 'Instructor', 'Peer-Mentor']\n"
     ]
    }
   ],
   "source": [
    "#Q13 Change the value of the index in Q12 from \"Bashir\" to \"Peer-Mentor\"\n",
    "\n",
    "my_secondnew_pps_L = list(my_secondnew_pps_L)\n",
    "my_secondnew_pps_L[7]=\"Peer-Mentor\"\n",
    "print(my_secondnew_pps_L)\n"
   ]
  },
  {
   "cell_type": "code",
   "execution_count": null,
   "id": "945e8143",
   "metadata": {},
   "outputs": [],
   "source": []
  }
 ],
 "metadata": {
  "kernelspec": {
   "display_name": "Python 3 (ipykernel)",
   "language": "python",
   "name": "python3"
  },
  "language_info": {
   "codemirror_mode": {
    "name": "ipython",
    "version": 3
   },
   "file_extension": ".py",
   "mimetype": "text/x-python",
   "name": "python",
   "nbconvert_exporter": "python",
   "pygments_lexer": "ipython3",
   "version": "3.9.12"
  }
 },
 "nbformat": 4,
 "nbformat_minor": 5
}
