{
 "cells": [
  {
   "cell_type": "code",
   "execution_count": 1,
   "id": "ea21db00",
   "metadata": {},
   "outputs": [],
   "source": [
    "#Q1 Create myTuple tuple with the follwoing values (\"NPower\",\"JDA\",\"Tuesday\",30,3)\n",
    "my_Tuple=(\"NPower\",\"JDA\",\"Tuesday\",30,3)\n",
    "         \n"
   ]
  },
  {
   "cell_type": "code",
   "execution_count": 2,
   "id": "e650dba1",
   "metadata": {},
   "outputs": [
    {
     "data": {
      "text/plain": [
       "tuple"
      ]
     },
     "execution_count": 2,
     "metadata": {},
     "output_type": "execute_result"
    }
   ],
   "source": [
    "#Q2 What is the type of myTuple\n",
    "type(my_Tuple)"
   ]
  },
  {
   "cell_type": "code",
   "execution_count": 3,
   "id": "590a4cd1",
   "metadata": {},
   "outputs": [
    {
     "data": {
      "text/plain": [
       "5"
      ]
     },
     "execution_count": 3,
     "metadata": {},
     "output_type": "execute_result"
    }
   ],
   "source": [
    "#Q3 What is the length of myTuple\n",
    "len(my_Tuple)"
   ]
  },
  {
   "cell_type": "code",
   "execution_count": 6,
   "id": "b0627430",
   "metadata": {},
   "outputs": [
    {
     "data": {
      "text/plain": [
       "('NPower', 'JDA', 'Tuesday', 30)"
      ]
     },
     "execution_count": 6,
     "metadata": {},
     "output_type": "execute_result"
    }
   ],
   "source": [
    "#Q4 print the values in each index #Use regular indexing\n",
    "my_Tuple[0:4]"
   ]
  },
  {
   "cell_type": "code",
   "execution_count": 11,
   "id": "f4806da2",
   "metadata": {},
   "outputs": [
    {
     "data": {
      "text/plain": [
       "('NPower', 'JDA', 'Tuesday', 30)"
      ]
     },
     "execution_count": 11,
     "metadata": {},
     "output_type": "execute_result"
    }
   ],
   "source": [
    "#Q5 print the values in each index #Use negative indexing\n",
    "my_Tuple[-5:-1]"
   ]
  },
  {
   "cell_type": "code",
   "execution_count": 23,
   "id": "75b06d31",
   "metadata": {},
   "outputs": [
    {
     "data": {
      "text/plain": [
       "str"
      ]
     },
     "execution_count": 23,
     "metadata": {},
     "output_type": "execute_result"
    }
   ],
   "source": [
    "#Q6 what is the type of each value\n",
    "type(\"NPower\")\n"
   ]
  },
  {
   "cell_type": "code",
   "execution_count": 24,
   "id": "8b88cbe5",
   "metadata": {},
   "outputs": [
    {
     "data": {
      "text/plain": [
       "str"
      ]
     },
     "execution_count": 24,
     "metadata": {},
     "output_type": "execute_result"
    }
   ],
   "source": [
    "type(\"JDA\")\n"
   ]
  },
  {
   "cell_type": "code",
   "execution_count": 25,
   "id": "6c2662b8",
   "metadata": {},
   "outputs": [
    {
     "data": {
      "text/plain": [
       "str"
      ]
     },
     "execution_count": 25,
     "metadata": {},
     "output_type": "execute_result"
    }
   ],
   "source": [
    "type(\"Tuesday\")\n"
   ]
  },
  {
   "cell_type": "code",
   "execution_count": 26,
   "id": "8d9fe17e",
   "metadata": {},
   "outputs": [
    {
     "data": {
      "text/plain": [
       "int"
      ]
     },
     "execution_count": 26,
     "metadata": {},
     "output_type": "execute_result"
    }
   ],
   "source": [
    "type(30)\n"
   ]
  },
  {
   "cell_type": "code",
   "execution_count": 27,
   "id": "d6ea3204",
   "metadata": {},
   "outputs": [
    {
     "data": {
      "text/plain": [
       "int"
      ]
     },
     "execution_count": 27,
     "metadata": {},
     "output_type": "execute_result"
    }
   ],
   "source": [
    "type(3)"
   ]
  },
  {
   "cell_type": "code",
   "execution_count": 41,
   "id": "b7a4356e",
   "metadata": {},
   "outputs": [],
   "source": [
    "#Q7 unpack myTuple in the follwoeing variables name,program,dayName,month,day,year\n",
    "# print the variables \n",
    "(name,program,dayName,month_day,year)=my_Tuple\n"
   ]
  },
  {
   "cell_type": "code",
   "execution_count": 39,
   "id": "12e6a8d1",
   "metadata": {},
   "outputs": [],
   "source": []
  },
  {
   "cell_type": "code",
   "execution_count": 43,
   "id": "d361a48f",
   "metadata": {},
   "outputs": [
    {
     "name": "stdout",
     "output_type": "stream",
     "text": [
      "NPower\n"
     ]
    }
   ],
   "source": [
    "print(name)"
   ]
  },
  {
   "cell_type": "code",
   "execution_count": 44,
   "id": "b106ec39",
   "metadata": {},
   "outputs": [
    {
     "name": "stdout",
     "output_type": "stream",
     "text": [
      "JDA\n"
     ]
    }
   ],
   "source": [
    "print(program)"
   ]
  },
  {
   "cell_type": "code",
   "execution_count": 45,
   "id": "dfc23226",
   "metadata": {},
   "outputs": [
    {
     "name": "stdout",
     "output_type": "stream",
     "text": [
      "Tuesday\n"
     ]
    }
   ],
   "source": [
    "print(dayName)"
   ]
  },
  {
   "cell_type": "code",
   "execution_count": 47,
   "id": "645a2e9d",
   "metadata": {},
   "outputs": [],
   "source": [
    "#Q8 unpack myTuple2 in the follwoeing variables name,program,dayName.\n",
    "# What will happen to variables (name,program,dayName) and (month,day,year) #i dont understand this question yet.\n",
    "\n",
    "(name,program,dayName)=myTuple2"
   ]
  },
  {
   "cell_type": "code",
   "execution_count": 51,
   "id": "83f55a2f",
   "metadata": {},
   "outputs": [],
   "source": [
    "# Note the following\n",
    "Tuple1=(\"Jerry\",2,89) #This is a tuple with 3 elements \n",
    "Tuple2=(\"Ulan\",)#This is a tuple with 1 element\n",
    "test=\"Leul\" #This is a VARIABLE with string value"
   ]
  },
  {
   "cell_type": "code",
   "execution_count": 52,
   "id": "46398bd3",
   "metadata": {},
   "outputs": [],
   "source": [
    "a,b,c=Tuple1"
   ]
  },
  {
   "cell_type": "code",
   "execution_count": 53,
   "id": "3462f141",
   "metadata": {},
   "outputs": [
    {
     "name": "stdout",
     "output_type": "stream",
     "text": [
      "Type a <class 'str'>\n"
     ]
    }
   ],
   "source": [
    "print(\"Type a\",type(a))"
   ]
  },
  {
   "cell_type": "code",
   "execution_count": 54,
   "id": "989dc9a1",
   "metadata": {},
   "outputs": [
    {
     "name": "stdout",
     "output_type": "stream",
     "text": [
      "Jerry 2 89\n"
     ]
    }
   ],
   "source": [
    "print(a,b,c)\n"
   ]
  },
  {
   "cell_type": "code",
   "execution_count": 59,
   "id": "afd00e18",
   "metadata": {},
   "outputs": [
    {
     "name": "stdout",
     "output_type": "stream",
     "text": [
      "<class 'tuple'>\n"
     ]
    }
   ],
   "source": [
    "d=Tuple2\n",
    "print(type(d))\n",
    "\n"
   ]
  },
  {
   "cell_type": "code",
   "execution_count": 60,
   "id": "6ee22633",
   "metadata": {},
   "outputs": [
    {
     "name": "stdout",
     "output_type": "stream",
     "text": [
      "('Ulan',)\n"
     ]
    }
   ],
   "source": [
    "print(d)"
   ]
  },
  {
   "cell_type": "code",
   "execution_count": 61,
   "id": "ccb3be3f",
   "metadata": {},
   "outputs": [],
   "source": [
    "\n",
    "e=test\n"
   ]
  },
  {
   "cell_type": "code",
   "execution_count": 62,
   "id": "2b502bc7",
   "metadata": {},
   "outputs": [
    {
     "name": "stdout",
     "output_type": "stream",
     "text": [
      "Leul\n"
     ]
    }
   ],
   "source": [
    "print(e)"
   ]
  },
  {
   "cell_type": "code",
   "execution_count": 63,
   "id": "e4d6b9e0",
   "metadata": {},
   "outputs": [
    {
     "name": "stdout",
     "output_type": "stream",
     "text": [
      "(1, 2, 3)\n"
     ]
    }
   ],
   "source": [
    "#Tuples are immutable\n",
    "#we can always make the testTuple variable reference a new tuple in the memory \n",
    "#and hold a different information\n",
    "testTuple=(1,2,3)\n",
    "print(testTuple)\n"
   ]
  },
  {
   "cell_type": "code",
   "execution_count": 64,
   "id": "1e95354a",
   "metadata": {},
   "outputs": [
    {
     "name": "stdout",
     "output_type": "stream",
     "text": [
      "(4, 5, 6)\n"
     ]
    }
   ],
   "source": [
    "testTuple=(4,5,6)\n",
    "print(testTuple)\n",
    "\n"
   ]
  },
  {
   "cell_type": "code",
   "execution_count": 65,
   "id": "90d6e589",
   "metadata": {},
   "outputs": [
    {
     "ename": "TypeError",
     "evalue": "'tuple' object does not support item assignment",
     "output_type": "error",
     "traceback": [
      "\u001b[1;31m---------------------------------------------------------------------------\u001b[0m",
      "\u001b[1;31mTypeError\u001b[0m                                 Traceback (most recent call last)",
      "Input \u001b[1;32mIn [65]\u001b[0m, in \u001b[0;36m<cell line: 2>\u001b[1;34m()\u001b[0m\n\u001b[0;32m      1\u001b[0m \u001b[38;5;66;03m#But we can't change or edit a value for the existing tuple\u001b[39;00m\n\u001b[1;32m----> 2\u001b[0m testTuple[\u001b[38;5;241m0\u001b[39m]\u001b[38;5;241m=\u001b[39m\u001b[38;5;241m6\u001b[39m\n",
      "\u001b[1;31mTypeError\u001b[0m: 'tuple' object does not support item assignment"
     ]
    }
   ],
   "source": [
    "#But we can't change or edit a value for the existing tuple\n",
    "testTuple[0]=6 #ERROR 'tuple' object does not support item assignment"
   ]
  },
  {
   "cell_type": "code",
   "execution_count": 80,
   "id": "979de8b5",
   "metadata": {},
   "outputs": [
    {
     "data": {
      "text/plain": [
       "('NPower', 'JDA', 'Tuesday', 30)"
      ]
     },
     "execution_count": 80,
     "metadata": {},
     "output_type": "execute_result"
    }
   ],
   "source": [
    "#Q9 Reverse my_Tuple, output should looks like (2021,3,30,\"Tuesday\",\"JDA\",\"NPower\"\n",
    "my_Tuple= ('NPower', 'JDA', 'Tuesday', 30)\n",
    "my_Tuple"
   ]
  },
  {
   "cell_type": "code",
   "execution_count": 81,
   "id": "2b9fb5e3",
   "metadata": {},
   "outputs": [
    {
     "name": "stdout",
     "output_type": "stream",
     "text": [
      "(30, 'Tuesday', 'JDA', 'NPower')\n"
     ]
    }
   ],
   "source": [
    "my_Tuple = tuple(reversed(my_Tuple))\n",
    "print(my_Tuple)"
   ]
  },
  {
   "cell_type": "code",
   "execution_count": null,
   "id": "8c3ecd48",
   "metadata": {},
   "outputs": [],
   "source": [
    "#Q10 Create nestedTuple=((\"Coursera\",\"course\",6),(\"week\",(2,\"Lists\",\"Tuple\")))"
   ]
  },
  {
   "cell_type": "code",
   "execution_count": 82,
   "id": "567fda6f",
   "metadata": {},
   "outputs": [],
   "source": [
    "nestedTuple=((\"Coursera\",\"course\",6),(\"week\",(2,\"Lists\",\"Tuple\")))"
   ]
  },
  {
   "cell_type": "code",
   "execution_count": 84,
   "id": "4e5ca070",
   "metadata": {},
   "outputs": [
    {
     "data": {
      "text/plain": [
       "(('week', (2, 'Lists', 'Tuple')),)"
      ]
     },
     "execution_count": 84,
     "metadata": {},
     "output_type": "execute_result"
    }
   ],
   "source": [
    "#Q11 What is the output of nestedTuple[1:2]\n",
    "nestedTuple[1:2]"
   ]
  },
  {
   "cell_type": "code",
   "execution_count": 86,
   "id": "5ec58da1",
   "metadata": {},
   "outputs": [
    {
     "data": {
      "text/plain": [
       "('Coursera', 'course', 6)"
      ]
     },
     "execution_count": 86,
     "metadata": {},
     "output_type": "execute_result"
    }
   ],
   "source": [
    "#Q12 print each element in the nestedTuple\n",
    "nestedTuple[0]"
   ]
  },
  {
   "cell_type": "code",
   "execution_count": 87,
   "id": "5cf1d634",
   "metadata": {},
   "outputs": [
    {
     "data": {
      "text/plain": [
       "('week', (2, 'Lists', 'Tuple'))"
      ]
     },
     "execution_count": 87,
     "metadata": {},
     "output_type": "execute_result"
    }
   ],
   "source": [
    "nestedTuple[1]"
   ]
  },
  {
   "cell_type": "code",
   "execution_count": 93,
   "id": "194a4dd5",
   "metadata": {},
   "outputs": [
    {
     "data": {
      "text/plain": [
       "(2, 'Lists', 'Tuple')"
      ]
     },
     "execution_count": 93,
     "metadata": {},
     "output_type": "execute_result"
    }
   ],
   "source": [
    "#Q13 Access (2,\"Lists\",\"Tuple\") from nestedTuple\n",
    "nestedTuple[1][1]"
   ]
  },
  {
   "cell_type": "code",
   "execution_count": 94,
   "id": "cba217d5",
   "metadata": {},
   "outputs": [
    {
     "data": {
      "text/plain": [
       "'Lists'"
      ]
     },
     "execution_count": 94,
     "metadata": {},
     "output_type": "execute_result"
    }
   ],
   "source": [
    "#Q14 Access the value \"Lists\" from nestedTuple\n",
    "nestedTuple[1][1][1]"
   ]
  },
  {
   "cell_type": "code",
   "execution_count": 107,
   "id": "54a29d2e",
   "metadata": {},
   "outputs": [
    {
     "ename": "SyntaxError",
     "evalue": "invalid syntax (1962766126.py, line 1)",
     "output_type": "error",
     "traceback": [
      "\u001b[1;36m  Input \u001b[1;32mIn [107]\u001b[1;36m\u001b[0m\n\u001b[1;33m    Q15 Access the value \"Tuple\" from nestedTuple\u001b[0m\n\u001b[1;37m        ^\u001b[0m\n\u001b[1;31mSyntaxError\u001b[0m\u001b[1;31m:\u001b[0m invalid syntax\n"
     ]
    }
   ],
   "source": [
    "Q15 Access the value \"Tuple\" from nestedTuple\n",
    "val = nestedTuple[1][1][2]  \n",
    "print(val)\n"
   ]
  },
  {
   "cell_type": "code",
   "execution_count": 108,
   "id": "28b5eb68",
   "metadata": {},
   "outputs": [
    {
     "data": {
      "text/plain": [
       "'course'"
      ]
     },
     "execution_count": 108,
     "metadata": {},
     "output_type": "execute_result"
    }
   ],
   "source": [
    "#Q16 Access the value \"course\" from nestedTuple\n",
    "nestedTuple[0][1]\n"
   ]
  },
  {
   "cell_type": "code",
   "execution_count": 110,
   "id": "1a89d4ed",
   "metadata": {},
   "outputs": [
    {
     "name": "stdout",
     "output_type": "stream",
     "text": [
      "(30, 'Tuesday', 'JDA', 'NPower', ('Coursera', 'course', 6), ('week', (2, 'Lists', 'Tuple')))\n"
     ]
    }
   ],
   "source": [
    "#Q17 Concatenate myTuple with nestedTuple\n",
    "concatenated_tuple=my_Tuple+nestedTuple\n",
    "print(concatenated_tuple)"
   ]
  },
  {
   "cell_type": "code",
   "execution_count": 135,
   "id": "3b4f4aa5",
   "metadata": {},
   "outputs": [
    {
     "name": "stdout",
     "output_type": "stream",
     "text": [
      "(('Coursera', 'course', 6), ('week', (2, 'Lists', 'Tuple')), 'Doreen')\n"
     ]
    }
   ],
   "source": [
    "#Q18 add your name to the tuple\n",
    "concatenated_tuple=((\"Coursera\",\"course\",6),(\"week\",(2,\"Lists\",\"Tuple\")))\n",
    "newnam=\"Doreen\"\n",
    "my_tuple_with_name=concatenated_tuple+(newnam,)\n",
    "print(my_tuple_with_name)\n"
   ]
  },
  {
   "cell_type": "code",
   "execution_count": 136,
   "id": "f2bc197f",
   "metadata": {},
   "outputs": [
    {
     "data": {
      "text/plain": [
       "(('Coursera', 'course', 6), ('week', (2, 'Lists', 'Tuple')), 'Doreen')"
      ]
     },
     "execution_count": 136,
     "metadata": {},
     "output_type": "execute_result"
    }
   ],
   "source": [
    "#Q19 check whether Coursera exists within myTuple\n",
    "# NOTE \"in\" doesn't work properly with nested tuples\n",
    "my_tuple_with_name\n"
   ]
  },
  {
   "cell_type": "code",
   "execution_count": 137,
   "id": "480a9029",
   "metadata": {},
   "outputs": [
    {
     "name": "stdout",
     "output_type": "stream",
     "text": [
      "Coursera is not in the tuple\n"
     ]
    }
   ],
   "source": [
    "if \"Coursera\" in my_tuple_with_name:\n",
    "    print(\"Coursera is in the tuple\")\n",
    "else:\n",
    "    print(\"Coursera is not in the tuple\")\n"
   ]
  },
  {
   "cell_type": "code",
   "execution_count": 138,
   "id": "81b51ffa",
   "metadata": {},
   "outputs": [],
   "source": [
    "#Q20 check whether 55 exists within testTuple\n",
    "testTuple=(1,2,33,55,6,55)"
   ]
  },
  {
   "cell_type": "code",
   "execution_count": 141,
   "id": "9a3b324b",
   "metadata": {},
   "outputs": [
    {
     "name": "stdout",
     "output_type": "stream",
     "text": [
      "55 is not in testTuple\n"
     ]
    }
   ],
   "source": [
    "if \"55\" in testTuple:\n",
    "   print(\"55 is in testTuple\")\n",
    "else:\n",
    "   print(\"55 is not in testTuple\")"
   ]
  },
  {
   "cell_type": "code",
   "execution_count": 142,
   "id": "c81b9b9e",
   "metadata": {},
   "outputs": [
    {
     "data": {
      "text/plain": [
       "(30, 'Tuesday', 'JDA', 'NPower')"
      ]
     },
     "execution_count": 142,
     "metadata": {},
     "output_type": "execute_result"
    }
   ],
   "source": [
    "#Q21 Find the index of JDA in myTuple\n",
    "my_Tuple\n"
   ]
  },
  {
   "cell_type": "code",
   "execution_count": 144,
   "id": "525a625f",
   "metadata": {},
   "outputs": [
    {
     "name": "stdout",
     "output_type": "stream",
     "text": [
      "2\n"
     ]
    }
   ],
   "source": [
    "\n",
    "index = my_Tuple.index('JDA')\n",
    "print(index)\n"
   ]
  },
  {
   "cell_type": "code",
   "execution_count": 145,
   "id": "ce7a9a33",
   "metadata": {},
   "outputs": [
    {
     "name": "stdout",
     "output_type": "stream",
     "text": [
      "2\n"
     ]
    }
   ],
   "source": [
    "my_Tuple[2]\n",
    "print(index)"
   ]
  },
  {
   "cell_type": "code",
   "execution_count": 146,
   "id": "2f6aea83",
   "metadata": {},
   "outputs": [
    {
     "name": "stdout",
     "output_type": "stream",
     "text": [
      "3\n"
     ]
    }
   ],
   "source": [
    "# Find the index of 'NPower' in myTuple\n",
    "# NOTE index doesn't work properly with nested tuples # Wrong output\n",
    "index=my_Tuple.index(\"NPower\")\n",
    "print(index)"
   ]
  },
  {
   "cell_type": "code",
   "execution_count": 150,
   "id": "f5921063",
   "metadata": {},
   "outputs": [
    {
     "data": {
      "text/plain": [
       "'JDA'"
      ]
     },
     "execution_count": 150,
     "metadata": {},
     "output_type": "execute_result"
    }
   ],
   "source": [
    "#Q22 print index 2 from myTuple\n",
    "my_Tuple[2]"
   ]
  },
  {
   "cell_type": "code",
   "execution_count": 153,
   "id": "416be240",
   "metadata": {},
   "outputs": [
    {
     "data": {
      "text/plain": [
       "(30, 'Tuesday', 'JDA', 'NPower')"
      ]
     },
     "execution_count": 153,
     "metadata": {},
     "output_type": "execute_result"
    }
   ],
   "source": [
    "#Q23 Get the 2rd element from the begining of myTuple and 1st element from last o\n",
    "my_Tuple"
   ]
  },
  {
   "cell_type": "code",
   "execution_count": 154,
   "id": "9a339758",
   "metadata": {},
   "outputs": [
    {
     "name": "stdout",
     "output_type": "stream",
     "text": [
      "Tuesday\n"
     ]
    }
   ],
   "source": [
    "second_element=my_Tuple[1]\n",
    "print(second_element)"
   ]
  },
  {
   "cell_type": "code",
   "execution_count": 155,
   "id": "18e2aed6",
   "metadata": {},
   "outputs": [
    {
     "name": "stdout",
     "output_type": "stream",
     "text": [
      "NPower\n"
     ]
    }
   ],
   "source": [
    "first_element_from_end=my_Tuple[-1]\n",
    "print(first_element_from_end)"
   ]
  },
  {
   "cell_type": "code",
   "execution_count": 156,
   "id": "1fe16f3a",
   "metadata": {},
   "outputs": [
    {
     "data": {
      "text/plain": [
       "(1, 2, 33, 55, 6, 55)"
      ]
     },
     "execution_count": 156,
     "metadata": {},
     "output_type": "execute_result"
    }
   ],
   "source": [
    "#Q24 Find how many times 55 appeared in testTuple [Hint: Use method count()]\n",
    "testTuple"
   ]
  },
  {
   "cell_type": "code",
   "execution_count": 158,
   "id": "95070d45",
   "metadata": {},
   "outputs": [
    {
     "name": "stdout",
     "output_type": "stream",
     "text": [
      "2\n"
     ]
    }
   ],
   "source": [
    "count=testTuple.count(55)\n",
    "print(count)"
   ]
  },
  {
   "cell_type": "code",
   "execution_count": null,
   "id": "41770969",
   "metadata": {},
   "outputs": [],
   "source": []
  }
 ],
 "metadata": {
  "kernelspec": {
   "display_name": "Python 3 (ipykernel)",
   "language": "python",
   "name": "python3"
  },
  "language_info": {
   "codemirror_mode": {
    "name": "ipython",
    "version": 3
   },
   "file_extension": ".py",
   "mimetype": "text/x-python",
   "name": "python",
   "nbconvert_exporter": "python",
   "pygments_lexer": "ipython3",
   "version": "3.9.12"
  }
 },
 "nbformat": 4,
 "nbformat_minor": 5
}
